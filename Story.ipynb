{
 "cells": [
  {
   "cell_type": "code",
   "execution_count": 3,
   "metadata": {
    "collapsed": true
   },
   "outputs": [],
   "source": [
    "#importing all possibly relevant packages\n",
    "import IPython\n",
    "import numpy as np\n",
    "import scipy.stats as st\n",
    "import pandas as pd\n",
    "import matplotlib.pyplot as plt\n",
    "%matplotlib inline\n",
    "import seaborn as sns\n",
    "import itertools\n",
    "from sklearn.ensemble import RandomForestClassifier, VotingClassifier\n",
    "from sklearn.ensemble import AdaBoostClassifier, GradientBoostingClassifier\n",
    "from sklearn.preprocessing import label_binarize\n",
    "from sklearn.multiclass import OneVsRestClassifier\n",
    "from sklearn.neural_network import MLPClassifier\n",
    "from sklearn import preprocessing\n",
    "import sklearn.metrics.pairwise as pair\n",
    "from sklearn.linear_model import LogisticRegression\n",
    "from sklearn.naive_bayes import GaussianNB\n",
    "from sklearn.decomposition import PCA, TruncatedSVD, SparsePCA, KernelPCA\n",
    "from sklearn.preprocessing import label_binarize\n",
    "from sklearn.multiclass import OneVsRestClassifier\n",
    "from sklearn.metrics import roc_curve, auc\n",
    "from sklearn.model_selection import train_test_split\n",
    "from sklearn.model_selection import cross_val_score\n",
    "from sklearn.tree import DecisionTreeClassifier\n",
    "from sklearn.model_selection import GridSearchCV\n",
    "from sklearn.ensemble import BaggingClassifier\n",
    "from sklearn.svm import SVC\n",
    "from sklearn.discriminant_analysis import LinearDiscriminantAnalysis as LDA\n",
    "from sklearn.discriminant_analysis import QuadraticDiscriminantAnalysis as QDA\n",
    "from sklearn import svm\n",
    "from sklearn.svm import SVR\n",
    "from sklearn.neighbors import KNeighborsClassifier\n",
    "from collections import Counter"
   ]
  },
  {
   "cell_type": "code",
   "execution_count": 4,
   "metadata": {
    "collapsed": true
   },
   "outputs": [],
   "source": [
    "# Function to return the auc values for each class\n",
    "def aucfun(clf, X_test, Y_test):    \n",
    "    y_bin = label_binarize(Y_test, classes=[1, 2, 3, 4])\n",
    "    fpr = dict()\n",
    "    tpr = dict()\n",
    "    roc_auc = dict()\n",
    "    Y_predict = clf.predict_proba(X_test)    \n",
    "    #Calculate AUC\n",
    "    for i in range(4):\n",
    "        fpr[i], tpr[i], _ = roc_curve(y_bin[:, i], Y_predict[:, i])\n",
    "        roc_auc[i] = auc(fpr[i], tpr[i])\n",
    "        \n",
    "    return roc_auc"
   ]
  },
  {
   "cell_type": "code",
   "execution_count": 5,
   "metadata": {
    "collapsed": true
   },
   "outputs": [],
   "source": [
    "# Import training data and labels into dataframes\n",
    "X = pd.read_csv('trainingData.txt', sep='\\t', header = None)\n",
    "Y = pd.read_csv('trainingTruth.txt', sep='\\t', header = None)\n",
    "Y = np.array(Y).ravel()"
   ]
  },
  {
   "cell_type": "markdown",
   "metadata": {},
   "source": [
    "**The first thing we did was realize that the baseline script was training and testing both on 100% of the training data set; we decided to start splitting the data set into training and testing subsets so that we could get a better sense for how the classifiers would ultimately perform on test data. Here we first try to run the data using the base RandomForest classifier again on our split dataset.**"
   ]
  },
  {
   "cell_type": "code",
   "execution_count": 14,
   "metadata": {
    "collapsed": false
   },
   "outputs": [
    {
     "name": "stdout",
     "output_type": "stream",
     "text": [
      "0.569332566168\n",
      "{0: 0.86014548202186658, 1: 0.71242058510233586, 2: 0.85638518053498403, 3: 0.59322531535450196}\n"
     ]
    }
   ],
   "source": [
    "#fill NaN's with zeros\n",
    "X_zeros = X.fillna(0)\n",
    "#split dataset into training and testing\n",
    "X_train, X_test, Y_train, Y_test = train_test_split(X_zeros, Y, test_size=0.20, random_state=25)\n",
    "\n",
    "#We commented this code out because OneVsRestClassifier is causing a bizarre error to appear.  This is the baseline code. \n",
    "#clf = OneVsRestClassifier(RandomForestClassifier(n_estimators = 2, random_state=25))\n",
    "#clf.fit(X_train, Y_train)\n",
    "#print(clf.score(X_test, Y_test))\n",
    "#print(aucfun(clf, X_test, Y_test))"
   ]
  },
  {
   "cell_type": "markdown",
   "metadata": {},
   "source": [
    "**We then played with the parameter settings manually to see how much we could gain in accuracy without yet directly manipulating the data. Just doing that we saw below a gain of about 10% in prediction accuracy.**"
   ]
  },
  {
   "cell_type": "code",
   "execution_count": 16,
   "metadata": {
    "collapsed": false
   },
   "outputs": [
    {
     "name": "stdout",
     "output_type": "stream",
     "text": [
      "0.661392405063\n",
      "{0: 0.94674890063842565, 1: 0.81848013200943459, 2: 0.93385955447438374, 3: 0.70579568756602251}\n"
     ]
    }
   ],
   "source": [
    "clf = OneVsRestClassifier(RandomForestClassifier(n_estimators=50, random_state=25, criterion='entropy',\n",
    "                                                max_features='auto', min_impurity_split = 1e-6))\n",
    "\n",
    "clf.fit(X_train, Y_train)\n",
    "print(clf.score(X_test, Y_test))\n",
    "print(aucfun(clf, X_test, Y_test))"
   ]
  },
  {
   "cell_type": "markdown",
   "metadata": {},
   "source": [
    "**We then came up with two ideas on how to better deal with the missing values in the data. First, we thought about calculating the correlation coefficient between every pair of features for all examples within a certain class;\n",
    "the idea being that when we have NaN's, we can look at the feature that most strongly correlates with the feature whose values we're missing, build a regression model based on that coefficient and predict our missing values using that model.  Below, we calculate a correlation matrix for all features.**"
   ]
  },
  {
   "cell_type": "code",
   "execution_count": 23,
   "metadata": {
    "collapsed": true
   },
   "outputs": [],
   "source": [
    "#create dataframe with class labels included\n",
    "X_withclasses = X.copy()\n",
    "X_withclasses['class'] = Y"
   ]
  },
  {
   "cell_type": "code",
   "execution_count": 24,
   "metadata": {
    "collapsed": true
   },
   "outputs": [],
   "source": [
    "'''This function gives us a list of correlation matrices for all feature pairs for each class'''\n",
    "def feat_corr():\n",
    "    corrs = []\n",
    "    for i in range(4):\n",
    "        classi = X_withclasses.loc[X_withclasses['class'] == i + 1]        \n",
    "        classi = classi.drop('class', 1)        \n",
    "        corrs.append(classi.corr(method = 'pearson'))        \n",
    "    return corrs\n",
    "\n",
    "#get correlation matrix for each pair of features for each class\n",
    "corrs = feat_corr()\n",
    "\n",
    "#fill diagonal values with 0 since all of them are 1 in a correlation matrix\n",
    "for i in corrs:\n",
    "    np.fill_diagonal(i.values, 0)"
   ]
  },
  {
   "cell_type": "code",
   "execution_count": 31,
   "metadata": {
    "collapsed": false
   },
   "outputs": [
    {
     "name": "stdout",
     "output_type": "stream",
     "text": [
      "[0.24997305653985449, 0.13750980947766309, 0.1903504295059652, 0.14457949316609414]\n"
     ]
    }
   ],
   "source": [
    "'''Finds the highest absolute value correlation coefficient between all pairs of features for a certain class'''  \n",
    "def max_corr(corrs):\n",
    "    return [np.absolute(i).max().max() for i in corrs]\n",
    "maxes = max_corr(corrs)    \n",
    "print(maxes)"
   ]
  },
  {
   "cell_type": "markdown",
   "metadata": {},
   "source": [
    "**Above, we show the highest correlation values for each class.  We can see that even the highest correlation coefficient (we look at negative coefficients too in the form of absolute values) between any pair of features within a class is extremely low, indicating that none of the features has any significant linear relationship with any other feature.**"
   ]
  },
  {
   "cell_type": "code",
   "execution_count": 59,
   "metadata": {
    "collapsed": false
   },
   "outputs": [
    {
     "data": {
      "image/png": "[encoded data removed]",
      "text/plain": [
       "<matplotlib.figure.Figure at 0x11e4a0ef0>"
      ]
     },
     "metadata": {},
     "output_type": "display_data"
    }
   ],
   "source": [
    "#find highest correlation coefficient to graph features\n",
    "max_feature = corrs[0].as_matrix()\n",
    "arg = max_feature.argmax()\n",
    "row, col = (arg//max_feature.shape[1], arg%max_feature.shape[1])\n",
    "\n",
    "#get features correlation matrix for class 1\n",
    "class1 = X_withclasses.loc[X_withclasses['class'] == 1]\n",
    "class1 = class1.drop('class', 1)\n",
    "corr1 = np.array(class1.corr(method = 'pearson'))\n",
    "\n",
    "#plot feature vs feature to get any idea of what is going on \n",
    "plt.scatter(class1[row], class1[col])\n",
    "plt.show()\n"
   ]
  },
  {
   "cell_type": "markdown",
   "metadata": {},
   "source": [
    "**Above we see that even the two features with the highest correlation coefficient in all 4 classes do not share a strong enough linear, or seemingly other, relationship to be used effectively for prediction.**"
   ]
  },
  {
   "cell_type": "markdown",
   "metadata": {},
   "source": [
    "**Having discovered that we could not fill NaNs using the feature correlation idea, we came up with a second idea to address NaNs: We decided to fill NaNs by finding the row at the shortest Euclidean distance, and then using that row's corresponding feature values to populate the NaNs of the row with missing values.   \n",
    "We realized that comparing row pairwise distances was problematic because each pair could be missing a different number of dimensions. To remedy the problem, we decided to fill in the NaNs with zeros before computing distance, reasoning that given the distribution of the number of missing values within the examples (maximum 7 missing values), doing this was unlikely to have any significant impact on what the closest neighbors would turn out to be.\n",
    "One subtlety of our implementation is that in the case in which the closest vector is missing the same values as the vector whose NaN values we're trying to fill, we sort the distance matrix (only in this case since it is an expensive operation) and look at the second, third, etc...closest vectors, until we find the closest one that also contains numerical values for the corresponding NaN values in the original vector.**"
   ]
  },
  {
   "cell_type": "code",
   "execution_count": 62,
   "metadata": {
    "collapsed": true
   },
   "outputs": [],
   "source": [
    "#Helper function to replace_nans_nn\n",
    "def replace_nans_nn_helper(X):\n",
    "    #Create a matrix of pairwise distances between all of the points\n",
    "    dist = pair.pairwise_distances(X.fillna(value=0))\n",
    "    np.fill_diagonal(dist, np.NaN)\n",
    "    #Create an array of nearest neighbors for each row\n",
    "    closest = np.nanargmin(dist, axis = 1)\n",
    "    #Loop through the data and replace NaN's with nearest neighbors\n",
    "    for i in range(X.shape[1]):\n",
    "        for j in range(X.shape[0]):\n",
    "            if np.isnan(X[i][j]):\n",
    "                if not np.isnan(X[i][closest[j]]):\n",
    "                    X[i][j] = X[i][closest[j]]\n",
    "                else:\n",
    "                    X[i][j] = X[i][np.argsort(dist[j])[1]]\n",
    "    return X\n",
    "\n",
    "#Function to replace the NaN values with the corresponding feature from the nearest neighbor datapoint\n",
    "def replace_nans_nn(X,Y):\n",
    "    #Separate the data by class\n",
    "    Xdivided = {1: X.iloc[Y==1].reset_index(drop=True), 2: X.iloc[Y==2].reset_index(drop=True), \\\n",
    "            3: X.iloc[Y==3].reset_index(drop=True), 4: X.iloc[Y==4].reset_index(drop=True)}\n",
    "    #Replace the NaNs in each separated dataframe with nearest neighbor feature values and concatenate the dataframes\n",
    "    Xnew = pd.DataFrame()\n",
    "    for i in Xdivided:\n",
    "        Xdivided[i] = replace_nans_nn_helper(Xdivided[i])\n",
    "        Xnew = pd.concat([Xnew,Xdivided[i]], ignore_index=True)\n",
    "    #Add the label sorted column\n",
    "    Y = np.sort(Y)\n",
    "    return Xnew, Y\n",
    "\n",
    "# Create the new datasets with NaNs populated according to the Euclidean distance method\n",
    "X_dist, Y_sorted = replace_nans_nn(X,Y)"
   ]
  },
  {
   "cell_type": "code",
   "execution_count": 63,
   "metadata": {
    "collapsed": false
   },
   "outputs": [
    {
     "name": "stdout",
     "output_type": "stream",
     "text": [
      "0.665995397008\n",
      "{0: 0.94222793584212039, 1: 0.82105054185351267, 2: 0.93616419626364955, 3: 0.69799266716935926}\n"
     ]
    }
   ],
   "source": [
    "# Check the classification performance using the new dataset\n",
    "X_train, X_test, Y_train, Y_test = train_test_split(X_dist, Y_sorted, test_size=0.20, random_state=25)\n",
    "clf.fit(X_train, Y_train)\n",
    "print(clf.score(X_test, Y_test))\n",
    "print(aucfun(clf, X_test, Y_test))"
   ]
  },
  {
   "cell_type": "markdown",
   "metadata": {},
   "source": [
    "**The classification results are roughly the same as they were when we simply replaced the NaNs with zeros. We decided to try a third method for replacing NaNs:  We replaced them with the feature mean for rows within the same class.**"
   ]
  },
  {
   "cell_type": "code",
   "execution_count": 6,
   "metadata": {
    "collapsed": true
   },
   "outputs": [],
   "source": [
    "# Divide the data into classes and populate the NaNs using the within class feature means. \n",
    "classes = [X.iloc[np.array(Y == i+1)] for i in range(4)]\n",
    "classes = [i.apply(lambda x: x.fillna(x.mean()),axis=0) for i in classes]\n",
    "X_mean = pd.concat(classes)\n",
    "Y_sorted = np.sort(Y)"
   ]
  },
  {
   "cell_type": "code",
   "execution_count": 67,
   "metadata": {
    "collapsed": false
   },
   "outputs": [
    {
     "name": "stdout",
     "output_type": "stream",
     "text": [
      "0.672324510932\n",
      "{0: 0.94777607184931689, 1: 0.82420870702541116, 2: 0.93647402512516575, 3: 0.70287158744880029}\n"
     ]
    }
   ],
   "source": [
    "# Check the classification performance using the new dataset\n",
    "X_train, X_test, Y_train, Y_test = train_test_split(X_mean, Y_sorted, test_size=0.20, random_state=25)\n",
    "clf.fit(X_train, Y_train)\n",
    "print(clf.score(X_test, Y_test))\n",
    "print(aucfun(clf, X_test, Y_test))"
   ]
  },
  {
   "cell_type": "markdown",
   "metadata": {},
   "source": [
    "**We can see here that the class mean method for filling NaNs seems to provide superior accuracy to our previous more complex and time consuming correlation and Euclidean distance methods for replacing NaNs. We then decided to look at how many rows were missing values and how many they were missing, and came up with one more way to deal with NaNs.**"
   ]
  },
  {
   "cell_type": "code",
   "execution_count": 72,
   "metadata": {
    "collapsed": false
   },
   "outputs": [
    {
     "data": {
      "text/plain": [
       "Counter({0: 5759, 1: 6355, 2: 3517, 3: 1319, 4: 348, 5: 70, 6: 9, 7: 1})"
      ]
     },
     "execution_count": 72,
     "metadata": {},
     "output_type": "execute_result"
    }
   ],
   "source": [
    "#get number of rows for each possible number of missing features within dataset\n",
    "nulls = X.isnull().sum(axis=1).tolist()\n",
    "Counter(nulls)"
   ]
  },
  {
   "cell_type": "markdown",
   "metadata": {},
   "source": [
    "**Looking above at the results of the count of rows for each possible number of missing values within our dataset,\n",
    "we came up with one last strategy to deal with NaNs, which was to remove the rows with 4 or more missing values, which effectively would remove only 2-3% of the rows in our dataset.**"
   ]
  },
  {
   "cell_type": "code",
   "execution_count": 75,
   "metadata": {
    "collapsed": true
   },
   "outputs": [],
   "source": [
    "# Create a dataset without rows that contain more than 3 missing values\n",
    "indices = np.array(X.isnull().sum(axis=1) < 4)\n",
    "X_nan_limit = X.iloc[indices].reset_index(drop=True)\n",
    "Y_nan_limit = Y[indices]\n",
    "\n",
    "# Divide the data into classes and populate the NaNs using the within class feature means. \n",
    "classes = [X_nan_limit.iloc[np.array(Y_nan_limit == i+1)] for i in range(4)]\n",
    "classes = [i.apply(lambda x: x.fillna(x.mean()),axis=0) for i in classes]\n",
    "X_nan_limit = pd.concat(classes)\n",
    "Y_nan_limit_sorted = np.sort(Y_nan_limit)"
   ]
  },
  {
   "cell_type": "code",
   "execution_count": 76,
   "metadata": {
    "collapsed": false
   },
   "outputs": [
    {
     "name": "stdout",
     "output_type": "stream",
     "text": [
      "0.671386430678\n",
      "{0: 0.94896770767778493, 1: 0.81372207920420592, 2: 0.93774760216847386, 3: 0.70967207556240741}\n"
     ]
    }
   ],
   "source": [
    "# Check the classification performance using the new dataset\n",
    "X_train, X_test, Y_train, Y_test = train_test_split(X_nan_limit, Y_nan_limit_sorted, test_size=0.20, random_state=25)\n",
    "clf.fit(X_train, Y_train)\n",
    "print(clf.score(X_test, Y_test))\n",
    "print(aucfun(clf, X_test, Y_test))"
   ]
  },
  {
   "cell_type": "markdown",
   "metadata": {},
   "source": [
    "**Despite small differences between all of those methods, our mean_per_class method is still the highest performing of all and therfore the one we ended up using throughout the rest of our exploration process.**"
   ]
  },
  {
   "cell_type": "markdown",
   "metadata": {},
   "source": [
    "**At this point, we wanted to start exploring other classifiers and other classification methods, so we decided to standardize our dataset, which while not making any difference for algorithms such as RandomForests, is important for classifiers such as Neural Networks and Support Vector Machines and will facilitate dimensionality reduction techniques such as PCA and LDA later on.**"
   ]
  },
  {
   "cell_type": "code",
   "execution_count": 7,
   "metadata": {
    "collapsed": true
   },
   "outputs": [],
   "source": [
    "# Standardize the data to have mean zero and unit variance\n",
    "scaler = preprocessing.StandardScaler().fit(X_mean)\n",
    "X = pd.DataFrame(scaler.transform(X_mean))\n",
    "Y = Y_sorted"
   ]
  },
  {
   "cell_type": "markdown",
   "metadata": {},
   "source": [
    "**We next wanted to test whether balancing classes to have the same number of rows per class would have a positive effect on performance. We took the class with the least number of rows and randomly extracted an equal number of rows from every other class before turning all of those subsets into a new balanced dataset.**"
   ]
  },
  {
   "cell_type": "code",
   "execution_count": 96,
   "metadata": {
    "collapsed": false
   },
   "outputs": [],
   "source": [
    "# Divide the data into classes and populate the NaNs using the within class feature means. \n",
    "classes = [X.iloc[np.array(Y == i+1)] for i in range(4)]\n",
    "classes = [i.apply(lambda x: x.fillna(x.mean()),axis=0) for i in classes]\n",
    "X_mean = pd.concat(classes)\n",
    "Y_sorted = np.sort(Y)\n",
    "\n",
    "X_balanced = X.copy()\n",
    "X_balanced['class'] = Y\n",
    "\n",
    "class1 = X_balanced.loc[X_balanced['class'] == 1]\n",
    "class2 = X_balanced.loc[X_balanced['class'] == 2]\n",
    "class3 = X_balanced.loc[X_balanced['class'] == 3]\n",
    "class4 = X_balanced.loc[X_balanced['class'] == 4]\n",
    "\n",
    "classes = [class1, class2, class3, class4]\n",
    "\n",
    "#balance classes \n",
    "balclasses = [i.sample(classes[3].shape[0]) for i in classes]\n",
    "\n",
    "X_balanced = pd.concat(balclasses)\n",
    "Y_balanced = X_balanced['class']\n",
    "X_balanced = X_balanced.drop('class', 1)\n",
    "\n",
    "\n",
    "X_train, X_test, Y_train, Y_test = train_test_split(X_balanced, Y_balanced, test_size=0.20, random_state=25)"
   ]
  },
  {
   "cell_type": "code",
   "execution_count": 97,
   "metadata": {
    "collapsed": false
   },
   "outputs": [
    {
     "name": "stdout",
     "output_type": "stream",
     "text": [
      "0.642960115329\n",
      "{0: 0.93526649029813613, 1: 0.77101316911757134, 2: 0.9137730789913957, 3: 0.70848548519538224}\n"
     ]
    }
   ],
   "source": [
    "#test balanced dataset with RF\n",
    "clf = OneVsRestClassifier(RandomForestClassifier(n_estimators=50, random_state=25, criterion='entropy',\n",
    "                                                max_features='auto', min_impurity_split = 1e-6))\n",
    "clf.fit(X_train, Y_train)\n",
    "print(clf.score(X_test, Y_test))\n",
    "print(aucfun(clf, X_test, Y_test))"
   ]
  },
  {
   "cell_type": "markdown",
   "metadata": {},
   "source": [
    "**We can see that the drop in performance is significant (~4%) compared to using the full dataset.** "
   ]
  },
  {
   "cell_type": "markdown",
   "metadata": {},
   "source": [
    "**Our hand-tuned multi-layer Perceptron Neural Network turned out to be the single highest performing classifier on the entire data set. Given how time consuming running the more complex models turned out to be, we initially in the first part of our exploration resorted mostly to hand-tuning the classifiers through trial and error, and common sense.**"
   ]
  },
  {
   "cell_type": "code",
   "execution_count": 87,
   "metadata": {
    "collapsed": false
   },
   "outputs": [
    {
     "name": "stdout",
     "output_type": "stream",
     "text": [
      "0.770713463751\n",
      "{0: 0.9710276833462067, 1: 0.90908211883408074, 2: 0.96422296145839548, 3: 0.85577693586991666}\n"
     ]
    }
   ],
   "source": [
    "def MLPclf():\n",
    "    return MLPClassifier(solver='sgd', alpha=10, hidden_layer_sizes=(50, 50, 50), random_state=1, max_iter=1000, \n",
    "                    activation = 'identity', learning_rate_init=0.001, momentum=0.9)\n",
    "\n",
    "X_train, X_test, Y_train, Y_test = train_test_split(X, Y, test_size=0.20, random_state=25)\n",
    "\n",
    "clf = MLPclf()\n",
    "clf.fit(X_train, Y_train)\n",
    "print(clf.score(X_test, Y_test))\n",
    "print(aucfun(clf, X_test, Y_test))"
   ]
  },
  {
   "cell_type": "markdown",
   "metadata": {},
   "source": [
    "**At this point, before delving into ensemble methods we felt it would be important to look into dimensionality reduction techniques to reduce the feature space, allowing us from a practical perspective to train models faster and therefore tune parameters more efficiently, while also potentially improving performance. Below we create datasets based on different dimensionality reduction techniques.**"
   ]
  },
  {
   "cell_type": "code",
   "execution_count": 8,
   "metadata": {
    "collapsed": false
   },
   "outputs": [],
   "source": [
    "# First we shuffle our full sized dataset\n",
    "shuffled = np.random.permutation(X.index)\n",
    "X = X.reindex(shuffled)\n",
    "Y = Y[shuffled]\n",
    "\n",
    "# Function to look for combination of most important features from each class\n",
    "def get_imp_features(X,Y):\n",
    "    clf = OneVsRestClassifier(RandomForestClassifier(n_estimators = 30, criterion='entropy', \n",
    "                                                     max_features='auto'))\n",
    "    clf.fit(X,Y)\n",
    "    return np.unique([[x[1] for x in sorted(zip(i.feature_importances_, X.columns), reverse=True)[0:5]] \n",
    "              for i in clf.estimators_])\n",
    "\n",
    "# Create a reduced dimensionality dataset with SVD\n",
    "svd = TruncatedSVD(n_components=30, algorithm='randomized', n_iter=10)\n",
    "svd.fit(X)\n",
    "X_svd = pd.DataFrame(svd.transform(X))\n",
    "\n",
    "# Create a dataset containing only important features\n",
    "imp_features = get_imp_features(X, Y)\n",
    "X_imp_features = X[imp_features]\n",
    "\n",
    "# Create a dataset using Linear Discriminant Analysis transformation\n",
    "clf = LDA()\n",
    "clf.fit(X, Y)\n",
    "X_lda = clf.transform(X)\n",
    "\n",
    "# Create a dataset using Principal Component Analysis transformation\n",
    "clf = PCA(n_components='mle', svd_solver='full', iterated_power=10)\n",
    "clf.fit(X, Y)\n",
    "X_pca = clf.transform(X)\n"
   ]
  },
  {
   "cell_type": "markdown",
   "metadata": {},
   "source": [
    "**Here we use cross validation to compare the how the original dataset (with all 334 feature dimensions) compares to each of the reduced dimension datasets (the important features dataset, the SVD dataset, the PCA dataset, and the LDA dataset). We test each dataset using a variety of classifiers to find out which data transformation is optimal for each classifier; however, given how computationally expensive and time consuming this would be, we decided to do the exhaustive testing using only 10% of each dataset. This process reveals the optimal dataset-classifier combination.**"
   ]
  },
  {
   "cell_type": "code",
   "execution_count": 10,
   "metadata": {
    "collapsed": false
   },
   "outputs": [
    {
     "name": "stderr",
     "output_type": "stream",
     "text": [
      "/Users/barbaramaclaurin/anaconda/envs/py35/lib/python3.5/site-packages/sklearn/discriminant_analysis.py:457: UserWarning: The priors do not sum to 1. Renormalizing\n",
      "  UserWarning)\n",
      "/Users/barbaramaclaurin/anaconda/envs/py35/lib/python3.5/site-packages/sklearn/discriminant_analysis.py:694: UserWarning: Variables are collinear\n",
      "  warnings.warn(\"Variables are collinear\")\n",
      "/Users/barbaramaclaurin/anaconda/envs/py35/lib/python3.5/site-packages/sklearn/discriminant_analysis.py:694: UserWarning: Variables are collinear\n",
      "  warnings.warn(\"Variables are collinear\")\n",
      "/Users/barbaramaclaurin/anaconda/envs/py35/lib/python3.5/site-packages/sklearn/discriminant_analysis.py:694: UserWarning: Variables are collinear\n",
      "  warnings.warn(\"Variables are collinear\")\n",
      "/Users/barbaramaclaurin/anaconda/envs/py35/lib/python3.5/site-packages/sklearn/discriminant_analysis.py:457: UserWarning: The priors do not sum to 1. Renormalizing\n",
      "  UserWarning)\n",
      "/Users/barbaramaclaurin/anaconda/envs/py35/lib/python3.5/site-packages/sklearn/discriminant_analysis.py:457: UserWarning: The priors do not sum to 1. Renormalizing\n",
      "  UserWarning)\n",
      "/Users/barbaramaclaurin/anaconda/envs/py35/lib/python3.5/site-packages/sklearn/discriminant_analysis.py:457: UserWarning: The priors do not sum to 1. Renormalizing\n",
      "  UserWarning)\n",
      "/Users/barbaramaclaurin/anaconda/envs/py35/lib/python3.5/site-packages/sklearn/discriminant_analysis.py:457: UserWarning: The priors do not sum to 1. Renormalizing\n",
      "  UserWarning)\n"
     ]
    }
   ],
   "source": [
    "clf1 = SVC()\n",
    "clf2 = GradientBoostingClassifier()\n",
    "clf3 = LogisticRegression(solver='lbfgs', multi_class = 'multinomial', max_iter = 300)\n",
    "clf4 = GaussianNB()\n",
    "clf5 = OneVsRestClassifier(RandomForestClassifier(n_estimators=10, random_state=None, criterion='entropy',\n",
    "                                                max_features='auto', min_impurity_split = 1e-6))\n",
    "clf6 = MLPclf()\n",
    "clf7 = LDA()\n",
    "clf8 = QDA()\n",
    "clf9 = KNeighborsClassifier(n_neighbors=180)\n",
    "\n",
    "clfs = [clf1, clf2, clf3, clf4, clf5, clf6, clf7, clf8, clf9]\n",
    "\n",
    "\n",
    "#original dataset with mean per class NaN filled values\n",
    "X_train, _ , Y_train , _ = train_test_split(X, Y, test_size=0.9, random_state=25)\n",
    "full_data = [np.mean(cross_val_score(classifier, X_train, Y_train, cv=3)) for classifier in clfs]\n",
    "\n",
    "X_train, _ , Y_train , _ = train_test_split(X_svd, Y, test_size=0.9, random_state=25)\n",
    "svd_data = [np.mean(cross_val_score(classifier, X_train, Y_train, cv=3)) for classifier in clfs]\n",
    "\n",
    "X_train, _ , Y_train , _ = train_test_split(X_imp_features, Y, test_size=0.9, random_state=25)\n",
    "imp_feat_data = [np.mean(cross_val_score(classifier, X_train, Y_train, cv=3)) for classifier in clfs]\n",
    "\n",
    "X_train, _ , Y_train , _ = train_test_split(X_lda, Y, test_size=0.9, random_state=25)\n",
    "lda_data = [np.mean(cross_val_score(classifier, X_train, Y_train, cv=3)) for classifier in clfs]\n",
    "\n",
    "X_train, _ , Y_train , _ = train_test_split(X_pca, Y, test_size=0.9, random_state=25)\n",
    "pca_data = [np.mean(cross_val_score(classifier, X_train, Y_train, cv=3)) for classifier in clfs]"
   ]
  },
  {
   "cell_type": "markdown",
   "metadata": {},
   "source": [
    "**The warnings we get are from running LDA and QDA classifiers on certain datasets and essentially indicate that those datasets are undesirable to use for those classifiers.**"
   ]
  },
  {
   "cell_type": "markdown",
   "metadata": {},
   "source": [
    "**Here we look at a few different combinations of measures between datasets and classifiers: First we look at how each dataset performed on average across all classifiers**"
   ]
  },
  {
   "cell_type": "code",
   "execution_count": 32,
   "metadata": {
    "collapsed": false
   },
   "outputs": [
    {
     "name": "stdout",
     "output_type": "stream",
     "text": [
      "0.628923711236 0.752442837562 0.787367591096 0.748668322625 0.542130698072\n"
     ]
    }
   ],
   "source": [
    "#print means of lists to find best performing dataset overall\n",
    "print(np.mean(full_data), np.mean(svd_data), np.mean(lda_data), np.mean(pca_data), np.mean(imp_feat_data))\n"
   ]
  },
  {
   "cell_type": "markdown",
   "metadata": {},
   "source": [
    "**We see that the LDA transformed dataset performs significantly better on average than any other dataset.\n",
    "We next look into more detail at a breakdown of every classifier's performance on each dataset.**"
   ]
  },
  {
   "cell_type": "code",
   "execution_count": 46,
   "metadata": {
    "collapsed": false
   },
   "outputs": [
    {
     "data": {
      "text/html": [
       "<div>\n",
       "<table border=\"1\" class=\"dataframe\">\n",
       "  <thead>\n",
       "    <tr style=\"text-align: right;\">\n",
       "      <th></th>\n",
       "      <th>full_data</th>\n",
       "      <th>imp_feat_data</th>\n",
       "      <th>lda_data</th>\n",
       "      <th>pca_data</th>\n",
       "      <th>svd_data</th>\n",
       "    </tr>\n",
       "  </thead>\n",
       "  <tbody>\n",
       "    <tr>\n",
       "      <th>'SVC'</th>\n",
       "      <td>0.744382</td>\n",
       "      <td>0.553263</td>\n",
       "      <td>0.796198</td>\n",
       "      <td>0.787573</td>\n",
       "      <td>0.788711</td>\n",
       "    </tr>\n",
       "    <tr>\n",
       "      <th>'GBC'</th>\n",
       "      <td>0.648821</td>\n",
       "      <td>0.536571</td>\n",
       "      <td>0.766265</td>\n",
       "      <td>0.742065</td>\n",
       "      <td>0.751869</td>\n",
       "    </tr>\n",
       "    <tr>\n",
       "      <th>'LR'</th>\n",
       "      <td>0.656295</td>\n",
       "      <td>0.560172</td>\n",
       "      <td>0.793883</td>\n",
       "      <td>0.760513</td>\n",
       "      <td>0.760512</td>\n",
       "    </tr>\n",
       "    <tr>\n",
       "      <th>'GNB'</th>\n",
       "      <td>0.750132</td>\n",
       "      <td>0.560751</td>\n",
       "      <td>0.796192</td>\n",
       "      <td>0.774308</td>\n",
       "      <td>0.766852</td>\n",
       "    </tr>\n",
       "    <tr>\n",
       "      <th>'RF'</th>\n",
       "      <td>0.528494</td>\n",
       "      <td>0.505481</td>\n",
       "      <td>0.765114</td>\n",
       "      <td>0.730563</td>\n",
       "      <td>0.735738</td>\n",
       "    </tr>\n",
       "    <tr>\n",
       "      <th>'MLP'</th>\n",
       "      <td>0.696607</td>\n",
       "      <td>0.545192</td>\n",
       "      <td>0.781228</td>\n",
       "      <td>0.757619</td>\n",
       "      <td>0.751861</td>\n",
       "    </tr>\n",
       "    <tr>\n",
       "      <th>'LDA'</th>\n",
       "      <td>0.702360</td>\n",
       "      <td>0.565929</td>\n",
       "      <td>0.797917</td>\n",
       "      <td>0.765108</td>\n",
       "      <td>0.770286</td>\n",
       "    </tr>\n",
       "    <tr>\n",
       "      <th>'QDA'</th>\n",
       "      <td>0.334485</td>\n",
       "      <td>0.529651</td>\n",
       "      <td>0.797351</td>\n",
       "      <td>0.753601</td>\n",
       "      <td>0.769140</td>\n",
       "    </tr>\n",
       "    <tr>\n",
       "      <th>'KNN'</th>\n",
       "      <td>0.598737</td>\n",
       "      <td>0.522166</td>\n",
       "      <td>0.792160</td>\n",
       "      <td>0.666665</td>\n",
       "      <td>0.677018</td>\n",
       "    </tr>\n",
       "  </tbody>\n",
       "</table>\n",
       "</div>"
      ],
      "text/plain": [
       "       full_data  imp_feat_data  lda_data  pca_data  svd_data\n",
       "'SVC'   0.744382       0.553263  0.796198  0.787573  0.788711\n",
       "'GBC'   0.648821       0.536571  0.766265  0.742065  0.751869\n",
       "'LR'    0.656295       0.560172  0.793883  0.760513  0.760512\n",
       "'GNB'   0.750132       0.560751  0.796192  0.774308  0.766852\n",
       "'RF'    0.528494       0.505481  0.765114  0.730563  0.735738\n",
       "'MLP'   0.696607       0.545192  0.781228  0.757619  0.751861\n",
       "'LDA'   0.702360       0.565929  0.797917  0.765108  0.770286\n",
       "'QDA'   0.334485       0.529651  0.797351  0.753601  0.769140\n",
       "'KNN'   0.598737       0.522166  0.792160  0.666665  0.677018"
      ]
     },
     "execution_count": 46,
     "metadata": {},
     "output_type": "execute_result"
    }
   ],
   "source": [
    "#create dataframe of classifiers vs datasets\n",
    "sets_clfs = pd.DataFrame(\n",
    "    {'full_data': full_data,'svd_data': svd_data,'lda_data': lda_data, \n",
    "     'pca_data': pca_data, 'imp_feat_data': imp_feat_data}, \n",
    "    index=\"'SVC' 'GBC' 'LR' 'GNB' 'RF' 'MLP' 'LDA' 'QDA' 'KNN'\".split())\n",
    "\n",
    "sets_clfs"
   ]
  },
  {
   "cell_type": "markdown",
   "metadata": {},
   "source": [
    "**Here we can see that each classifier has its best performance on the LDA dataset, in most cases by a very significant margin; the most impressive change in prediction accuracy coming from the K Nearest Neighbors classifier, which performs poorly on every other dataset. Therefore we will from now on focus our exploration efforts on the LDA transformed dataset.**"
   ]
  },
  {
   "cell_type": "markdown",
   "metadata": {},
   "source": [
    "**We now move on to tuning our classifiers using Grid Search. While we used 80% of our LDA transformed dataset to run Grid Serch in our code, given the expensiveness of those operations and the time it would take to run here, we will in this story iPython notebook only use 10% of the dataset in order to do Grid Search.**"
   ]
  },
  {
   "cell_type": "code",
   "execution_count": 103,
   "metadata": {
    "collapsed": false
   },
   "outputs": [
    {
     "data": {
      "text/plain": [
       "({'n_neighbors': 250}, 0.78123200921128377)"
      ]
     },
     "execution_count": 103,
     "metadata": {},
     "output_type": "execute_result"
    }
   ],
   "source": [
    "X_train, X_test , Y_train , Y_test = train_test_split(X_lda, Y, test_size=0.9, random_state=25)\n",
    "\n",
    "\n",
    "param_test1 = {'n_neighbors':[100, 150, 180, 200, 250, 300]}\n",
    "gsearch1 = GridSearchCV(estimator = KNeighborsClassifier(), \n",
    "                        param_grid = param_test1, scoring='accuracy', cv=10)\n",
    "gsearch1.fit(X_train, Y_train)\n",
    "gsearch1.best_params_, gsearch1.best_score_"
   ]
  },
  {
   "cell_type": "code",
   "execution_count": 213,
   "metadata": {
    "collapsed": false
   },
   "outputs": [
    {
     "data": {
      "text/plain": [
       "({'C': 0.9, 'gamma': 0.06, 'kernel': 'rbf'}, 0.78672133505970365)"
      ]
     },
     "execution_count": 213,
     "metadata": {},
     "output_type": "execute_result"
    }
   ],
   "source": [
    "#train SVC on more of the data because it runs a lot faster\n",
    "X_train_SVC, X_test_SVC , Y_train_SVC , Y_test_SVC = train_test_split(X_lda, Y, test_size=0.2, random_state=25)\n",
    "\n",
    "param_test2 = {'C':[0.9, 1.0, 1.1], 'gamma':[0.04, 0.05, 0.06], \n",
    "               'kernel':['linear', 'rbf']}\n",
    "gsearch2 = GridSearchCV(estimator = SVC(), \n",
    "                        param_grid = param_test2, scoring='accuracy', cv=2)\n",
    "gsearch2.fit(X_train_SVC, Y_train_SVC)\n",
    "gsearch2.best_params_, gsearch2.best_score_"
   ]
  },
  {
   "cell_type": "code",
   "execution_count": 105,
   "metadata": {
    "collapsed": false
   },
   "outputs": [
    {
     "data": {
      "text/plain": [
       "({'criterion': 'entropy', 'max_features': 'auto', 'n_estimators': 80},\n",
       " 0.76511226252158893)"
      ]
     },
     "execution_count": 105,
     "metadata": {},
     "output_type": "execute_result"
    }
   ],
   "source": [
    "param_test3 = {'n_estimators':[50, 70, 80, 90, 100], 'max_features':['auto', 'log2', 1.0],\n",
    "              'criterion': ['gini', 'entropy']}\n",
    "gsearch3 = GridSearchCV(estimator = RandomForestClassifier(), \n",
    "                        param_grid = param_test3, scoring='accuracy', cv=2)\n",
    "gsearch3.fit(X_train, Y_train)\n",
    "gsearch3.best_params_, gsearch3.best_score_"
   ]
  },
  {
   "cell_type": "markdown",
   "metadata": {},
   "source": [
    "**The Neural Network Grid Search takes several hours to run and we are therefore commenting it out here.** "
   ]
  },
  {
   "cell_type": "code",
   "execution_count": 184,
   "metadata": {
    "collapsed": false
   },
   "outputs": [
    {
     "data": {
      "text/plain": [
       "({'activation': 'identity',\n",
       "  'alpha': 0.001,\n",
       "  'hidden_layer_sizes': (50, 50),\n",
       "  'learning_rate': 'adaptive',\n",
       "  'learning_rate_init': 0.01,\n",
       "  'max_iter': 10000,\n",
       "  'solver': 'adam'},\n",
       " 0.78612716763005785)"
      ]
     },
     "execution_count": 184,
     "metadata": {},
     "output_type": "execute_result"
    }
   ],
   "source": [
    "#param_test4 = {'hidden_layer_sizes':[(10, 10),(10, 10, 10),(50, 50),(50, 50, 50)], \n",
    "#               'activation':['identity', 'relu'],\n",
    "#               'solver':['adam', 'lbfgs', 'sgd'], 'alpha':[0.1, 0.01, 0.001],\n",
    "#               'learning_rate':['constant', 'invscaling', 'adaptive'], 'max_iter':[10000],\n",
    "#               'learning_rate_init':[0.1, 0.01, 0.001]}\n",
    "#gsearch4 = GridSearchCV(estimator = MLPClassifier(), \n",
    "#                        param_grid = param_test4, scoring='accuracy', cv=2)\n",
    "\n",
    "#gsearch4.fit(X_train2, Y_train2)\n",
    "#gsearch4.best_params_, gsearch4.best_score_\n"
   ]
  },
  {
   "cell_type": "markdown",
   "metadata": {},
   "source": [
    "**We store our tuned classifiers into functions.**"
   ]
  },
  {
   "cell_type": "code",
   "execution_count": 190,
   "metadata": {
    "collapsed": true
   },
   "outputs": [],
   "source": [
    "RF = RandomForestClassifier(criterion='entropy', max_features='auto', n_estimators=80)\n",
    "\n",
    "KNN = KNeighborsClassifier(n_neighbors=250)\n",
    "\n",
    "MLP = MLPClassifier(hidden_layer_sizes = (50, 50), activation='identity', solver='adam', alpha = 0.001\n",
    "                 , learning_rate = 'adaptive', max_iter=10000, learning_rate_init = 0.01)\n",
    "\n",
    "SVM = SVC(C=0.5, gamma=0.01, kernel='linear')"
   ]
  },
  {
   "cell_type": "markdown",
   "metadata": {},
   "source": [
    "**Now we try our presumably improved classifiers on the LDA dataset again. While the results below show no improvement or even marginal decrease in performance, the results on training on most of the training dataset, instead of just 10% of it for the puporse of this story notebook, showed improvements in performance overall.**"
   ]
  },
  {
   "cell_type": "code",
   "execution_count": 205,
   "metadata": {
    "collapsed": false
   },
   "outputs": [
    {
     "data": {
      "text/html": [
       "<div>\n",
       "<table border=\"1\" class=\"dataframe\">\n",
       "  <thead>\n",
       "    <tr style=\"text-align: right;\">\n",
       "      <th></th>\n",
       "      <th>new_lda_data</th>\n",
       "    </tr>\n",
       "  </thead>\n",
       "  <tbody>\n",
       "    <tr>\n",
       "      <th>'RF'</th>\n",
       "      <td>0.761086</td>\n",
       "    </tr>\n",
       "    <tr>\n",
       "      <th>'KNN'</th>\n",
       "      <td>0.774894</td>\n",
       "    </tr>\n",
       "    <tr>\n",
       "      <th>'MLP'</th>\n",
       "      <td>0.785830</td>\n",
       "    </tr>\n",
       "    <tr>\n",
       "      <th>'SVM'</th>\n",
       "      <td>0.784094</td>\n",
       "    </tr>\n",
       "  </tbody>\n",
       "</table>\n",
       "</div>"
      ],
      "text/plain": [
       "       new_lda_data\n",
       "'RF'       0.761086\n",
       "'KNN'      0.774894\n",
       "'MLP'      0.785830\n",
       "'SVM'      0.784094"
      ]
     },
     "execution_count": 205,
     "metadata": {},
     "output_type": "execute_result"
    }
   ],
   "source": [
    "new_clfs = [RF, KNN, MLP, SVM]\n",
    "new_X_train, _ , new_Y_train , _ = train_test_split(X_lda, Y, test_size=0.9, random_state=25)\n",
    "new_lda_data = [np.mean(cross_val_score(classifier, new_X_train, new_Y_train, cv=3)) for classifier in new_clfs]\n",
    "\n",
    "#create dataframe of classifiers vs datasets\n",
    "sets_new_clfs = pd.DataFrame(\n",
    "    {'new_lda_data': new_lda_data}, \n",
    "    index=\"'RF' 'KNN' 'MLP' 'SVM'\".split())\n",
    "\n",
    "sets_new_clfs"
   ]
  },
  {
   "cell_type": "markdown",
   "metadata": {},
   "source": [
    "**Now that we have tuned our classifiers, we move on to trying ensemble methods. We try to apply bagging to KNN, MLP and SVM.\n",
    "We first create a function that computes the sum of the AUC scores, a metric which will be very useful when we look at every possible combination of classifiers during our ensemble voting section.**"
   ]
  },
  {
   "cell_type": "code",
   "execution_count": 9,
   "metadata": {
    "collapsed": false
   },
   "outputs": [],
   "source": [
    "'''This function returns the sum of the AUC scores for all 4 classes'''\n",
    "def aucsum(auc_scores):\n",
    "    auc_sum = 0.\n",
    "    for i in range(4):\n",
    "        auc_sum += auc_scores[i]\n",
    "    return auc_sum"
   ]
  },
  {
   "cell_type": "code",
   "execution_count": 196,
   "metadata": {
    "collapsed": false
   },
   "outputs": [
    {
     "name": "stdout",
     "output_type": "stream",
     "text": [
      "KNN with 250 neighbors: Accuracy = 0.781983249153 AUC scores = {0: 0.97259052268509005, 1: 0.91723363900964872, 2: 0.96505118859363048, 3: 0.86490348214543133} AUC Sum = 3.71977883243\n"
     ]
    }
   ],
   "source": [
    "clf = BaggingClassifier(base_estimator = KNN, n_estimators=10)\n",
    "clf.fit(X_train, Y_train)\n",
    "print('KNN with 250 neighbors: Accuracy =', clf.score(X_test, Y_test), 'AUC scores =', aucfun(clf, X_test, Y_test),\n",
    "     'AUC Sum =', aucsum(aucfun(clf, X_test, Y_test)))\n"
   ]
  },
  {
   "cell_type": "code",
   "execution_count": 195,
   "metadata": {
    "collapsed": false
   },
   "outputs": [
    {
     "name": "stdout",
     "output_type": "stream",
     "text": [
      "SVC: Accuracy = 0.78792916054 AUC Scores = {0: 0.93210946800590055, 1: 0.81166242465218019, 2: 0.92626451330852599, 3: 0.74318048094252609} AUC Sum = 3.41321688691\n"
     ]
    }
   ],
   "source": [
    "clf = BaggingClassifier(base_estimator = SVM, n_estimators = 10)\n",
    "clf.fit(X_train, Y_train)\n",
    "print('SVC: Accuracy =', clf.score(X_test, Y_test), 'AUC Scores =', aucfun(clf, X_test, Y_test),\n",
    "     'AUC Sum =', aucsum(aucfun(clf, X_test, Y_test)))\n"
   ]
  },
  {
   "cell_type": "code",
   "execution_count": 194,
   "metadata": {
    "collapsed": false
   },
   "outputs": [
    {
     "name": "stdout",
     "output_type": "stream",
     "text": [
      "MLP: Accuracy = 0.789143916629 AUC Scores = {0: 0.97442757488410658, 1: 0.91831665504921467, 2: 0.96524190672378929, 3: 0.87640524906715911} AUC Sum = 3.73439138572\n"
     ]
    }
   ],
   "source": [
    "clf = BaggingClassifier(base_estimator = MLP, n_estimators = 10)\n",
    "clf.fit(X_train, Y_train)\n",
    "print('MLP: Accuracy =', clf.score(X_test, Y_test), 'AUC Scores =', aucfun(clf, X_test, Y_test),\n",
    "     'AUC Sum =', aucsum(aucfun(clf, X_test, Y_test)))"
   ]
  },
  {
   "cell_type": "markdown",
   "metadata": {},
   "source": [
    "**The results of the Bagging ensemble method on KNN and SVM were disappointing, with a dramatic drop in AUC scores for the SVM classifier. However, we saw some improvement on the MLP classifier.**"
   ]
  },
  {
   "cell_type": "code",
   "execution_count": 202,
   "metadata": {
    "collapsed": false
   },
   "outputs": [
    {
     "name": "stdout",
     "output_type": "stream",
     "text": [
      "0.784668499457\n",
      "{0: 0.95559541149445271, 1: 0.9005983026766966, 2: 0.95188021935566625, 3: 0.83557938163871892}\n",
      "3.64365331517\n",
      "0.78671440445\n",
      "{0: 0.97448320597084703, 1: 0.91726753038907527, 2: 0.96492665334015304, 3: 0.87711159395135052}\n",
      "3.73378898365\n"
     ]
    }
   ],
   "source": [
    "clf = SVC(probability=True)\n",
    "clf.fit(X_train, Y_train)\n",
    "print(clf.score(X_test, Y_test))\n",
    "print(aucfun(clf, X_test, Y_test))\n",
    "print(aucsum(aucfun(clf, X_test, Y_test)))\n",
    "\n",
    "clf = SVC(C=0.5, gamma=0.01, kernel='linear', probability=True)\n",
    "clf.fit(X_train, Y_train)\n",
    "print(clf.score(X_test, Y_test))\n",
    "print(aucfun(clf, X_test, Y_test))\n",
    "print(aucsum(aucfun(clf, X_test, Y_test)))"
   ]
  },
  {
   "cell_type": "code",
   "execution_count": 203,
   "metadata": {
    "collapsed": false
   },
   "outputs": [
    {
     "name": "stdout",
     "output_type": "stream",
     "text": [
      "0.751550412378\n",
      "{0: 0.97374706956654389, 1: 0.89784691655551918, 2: 0.96385138200013443, 3: 0.7935110856655716}\n",
      "3.62895645379\n",
      "0.779489802442\n",
      "{0: 0.97418188020809826, 1: 0.916401599214833, 2: 0.96482105401461227, 3: 0.8766682020035923}\n",
      "3.73207273544\n"
     ]
    }
   ],
   "source": [
    "clf = MLPClassifier(solver='sgd', alpha=10, hidden_layer_sizes=(50, 50, 50), random_state=1, max_iter=1000, \n",
    "                    activation = 'identity', learning_rate_init=0.001, momentum=0.9)\n",
    "clf.fit(X_train, Y_train)\n",
    "print(clf.score(X_test, Y_test))\n",
    "print(aucfun(clf, X_test, Y_test))\n",
    "print(aucsum(aucfun(clf, X_test, Y_test)))\n",
    "\n",
    "clf = MLP\n",
    "clf.fit(X_train, Y_train)\n",
    "print(clf.score(X_test, Y_test))\n",
    "print(aucfun(clf, X_test, Y_test))\n",
    "print(aucsum(aucfun(clf, X_test, Y_test)))"
   ]
  },
  {
   "cell_type": "code",
   "execution_count": 206,
   "metadata": {
    "collapsed": false
   },
   "outputs": [
    {
     "name": "stdout",
     "output_type": "stream",
     "text": [
      "0.782366856339\n",
      "{0: 0.97293780819835751, 1: 0.91760287851561972, 2: 0.96504581184589433, 3: 0.86764650829001666}\n",
      "3.72323300685\n",
      "0.785755386484\n",
      "{0: 0.97327051702907696, 1: 0.91808690914080082, 2: 0.96518694658601945, 3: 0.86961713025044607}\n",
      "3.72616150301\n"
     ]
    }
   ],
   "source": [
    "clf = KNN\n",
    "clf.fit(X_train, Y_train)\n",
    "print(clf.score(X_test, Y_test))\n",
    "print(aucfun(clf, X_test, Y_test))\n",
    "print(aucsum(aucfun(clf, X_test, Y_test)))\n",
    "\n",
    "clf = KNeighborsClassifier(n_neighbors=180)\n",
    "clf.fit(X_train, Y_train)\n",
    "print(clf.score(X_test, Y_test))\n",
    "print(aucfun(clf, X_test, Y_test))\n",
    "print(aucsum(aucfun(clf, X_test, Y_test)))"
   ]
  },
  {
   "cell_type": "markdown",
   "metadata": {},
   "source": [
    "**Above, we see that running our tuned classifiers versus their old selves show significant (around 10% total) improvements in AUC scores for both the MLP and SVC classifiers.**"
   ]
  },
  {
   "cell_type": "markdown",
   "metadata": {
    "collapsed": false
   },
   "source": [
    "**After seeing mixed results with bagging, we tried using an ensemble voting classifier to benefit from the potentially different types of class prediction in our individual classifiers. We trained every possible combination of classifiers in a voting ensemble in an effort to find the best combination of classifiers (here we chose our best classfiers (only 6 of them) but initially ran through combinations of all 9 classifiers.**"
   ]
  },
  {
   "cell_type": "code",
   "execution_count": null,
   "metadata": {
    "collapsed": true
   },
   "outputs": [],
   "source": [
    "#all possible combinations of chosen classifiers\n",
    "classifiers = [('SVC', clf1), ('GBC', clf2), ('LR', clf3), ('GNB', clf4), \n",
    "                                     ('LDA', clf5), ('QDA', clf6)]\n",
    "\n",
    "models = []\n",
    "\n",
    "for i in range(2, 3):    #number of classifiers in each model\n",
    "    for clfs in itertools.combinations(classifiers, i):  #generating combinations\n",
    "        models.append(clfs) "
   ]
  },
  {
   "cell_type": "markdown",
   "metadata": {},
   "source": [
    "**<font color='red'>WARNING: The code below takes several hours to run. As such we weren't able to run it in this \"story\" iPython notebook specifically, meaning it is possible that the code won't function as intended in this context. If you wish to run it anyway, just uncomment the cells below.<font color='red'>**"
   ]
  },
  {
   "cell_type": "code",
   "execution_count": null,
   "metadata": {
    "collapsed": true
   },
   "outputs": [],
   "source": [
    "aucs = []\n",
    "accus = []\n",
    "count = len(models)\n",
    "\n",
    "\n",
    "# Train and record results for every possible combination of 1, 2, 3, 4, 5 and 6 classifiers\n",
    "#for k in range(count):    \n",
    "#    eclf = VotingClassifier(estimators=models[k], voting='soft')\n",
    "#    eclf.fit(X_train, Y_train)\n",
    "#\n",
    "#    Y_predict = eclf.predict_proba(X_test)\n",
    "#\n",
    "    # Binarize the output\n",
    "#    y_bin = label_binarize(Y_test, classes=[1,2,3,4])\n",
    "#\n",
    "    # Calculate AUC\n",
    "#    fpr = dict()\n",
    "#    tpr = dict()\n",
    "#    roc_auc = dict()\n",
    "#    for i in range(4):\n",
    "#        fpr[i], tpr[i], _ = roc_curve(y_bin[:, i], Y_predict[:, i])\n",
    "#        roc_auc[i] = auc(fpr[i], tpr[i])\n",
    "\n",
    "\n",
    "#    aucs.append(aucsum(eclf, X_test, Y_test))\n",
    "#    accus.append(eclf.score(X_test, Y_test))\n",
    "    "
   ]
  },
  {
   "cell_type": "code",
   "execution_count": null,
   "metadata": {
    "collapsed": true
   },
   "outputs": [],
   "source": [
    "# Compute the sum of every dictionary of AUC values for each result in aucs list\n",
    "\n",
    "#sums = []\n",
    "#for au in aucs:\n",
    "#    sm = 0\n",
    "#    for j in au:\n",
    "#        sm += au[j]\n",
    "#    sums.append(sm)    "
   ]
  },
  {
   "cell_type": "markdown",
   "metadata": {},
   "source": [
    "**After gathering the AUC scores for every combination of classifiers in an ensemble voting classifier, we look for the highest performing classifier combination, both in terms of the sum of AUC scores and accuracy.**"
   ]
  },
  {
   "cell_type": "code",
   "execution_count": null,
   "metadata": {
    "collapsed": true
   },
   "outputs": [],
   "source": [
    "# Look for the greatest sum of AUC scores \n",
    "#np.argmax(sums)\n",
    "\n",
    "# Look for the greatest accuracy score\n",
    "#np.argmax(accus)"
   ]
  },
  {
   "cell_type": "markdown",
   "metadata": {},
   "source": [
    "**We ultimately decided to keep a combination of the model with highest accuracy and the model with greatest sum of AUC scores, as they turned out to be different and we wanted to maximize a combination of those two criteria. As such our final model, which gave us an AUC scores sum and accuracy score between those of the two individual models, was made up of GaussianNB, QDA, LDA and KNN.**"
   ]
  },
  {
   "cell_type": "markdown",
   "metadata": {},
   "source": [
    "**We then decided to try using a stacking classifier with our best performing combination of classifiers. The results turned out to be slightly inferior to those of the voting classifier, so we decided to submit the voting classifier's predictions.**"
   ]
  },
  {
   "cell_type": "code",
   "execution_count": 13,
   "metadata": {
    "collapsed": false
   },
   "outputs": [
    {
     "name": "stdout",
     "output_type": "stream",
     "text": [
      "0.789079982098\n",
      "{0: 0.97247328631121777, 1: 0.91954065270623875, 2: 0.96601998551796631, 3: 0.87418949128198786}\n"
     ]
    },
    {
     "name": "stderr",
     "output_type": "stream",
     "text": [
      "/Users/barbaramaclaurin/anaconda/envs/py35/lib/python3.5/site-packages/sklearn/discriminant_analysis.py:457: UserWarning: The priors do not sum to 1. Renormalizing\n",
      "  UserWarning)\n"
     ]
    }
   ],
   "source": [
    "X_train, X_test , Y_train , Y_test = train_test_split(X_lda, Y, test_size=0.9, random_state=25)\n",
    "\n",
    "mod1 = KNeighborsClassifier(n_neighbors = 180).fit(X_train,Y_train)\n",
    "mod1_pred_train = mod1.predict_proba(X_train)\n",
    "mod1_pred_test = mod1.predict_proba(X_test)\n",
    "\n",
    "mod2 = LDA().fit(X_train,Y_train)\n",
    "mod2_pred_train = mod2.predict_proba(X_train)\n",
    "mod2_pred_test = mod2.predict_proba(X_test)\n",
    "\n",
    "mod3 = QDA().fit(X_train,Y_train)\n",
    "mod3_pred_train = mod3.predict_proba(X_train)\n",
    "mod3_pred_test = mod3.predict_proba(X_test)\n",
    "\n",
    "mod4 = GaussianNB().fit(X_train,Y_train)\n",
    "mod4_pred_train = mod4.predict_proba(X_train)\n",
    "mod4_pred_test = mod4.predict_proba(X_test)\n",
    "\n",
    "\n",
    "#Creating training attributes for based on mod1, mod2, mod3, and mod4\n",
    "FeaturesTrain1 = np.hstack([mod1_pred_train,mod2_pred_train,mod3_pred_train,mod4_pred_train])  \n",
    "stacker = LogisticRegression(random_state=69).fit(FeaturesTrain1,Y_train)\n",
    "\n",
    "#Creating test attributes for Model3 (based on Model1 and Model2)\n",
    "FeaturesTest1 = np.hstack([mod1_pred_test,mod2_pred_test,mod3_pred_test,mod4_pred_test])\n",
    "\n",
    "#Final predictions\n",
    "score = stacker.score(FeaturesTest1, Y_test)\n",
    "print(score)\n",
    "print(aucfun(stacker, FeaturesTest1, Y_test))\n",
    "\n"
   ]
  },
  {
   "cell_type": "markdown",
   "metadata": {},
   "source": [
    "**<font color='red'>At that point, we had two important insights that allowed us to make great improvements in our performance.<font color='red'>**\n",
    "\n",
    "**We first realized that we needed to split the data prior to applying any tranformation in order to get accurate test results.**\n",
    "\n",
    "**We also realized that both PCA and LDA capture different types of information from the original dataset.  Both seemed important, so we decided to create a new dataset by combining the LDA transformed data with the first 12 columns (a number we came up with through an exhaustive iterative process) of the PCA transformed data.  To our delight, this new dataset achieved higher prediction accuracy than just the LDA transformed dataset.**"
   ]
  },
  {
   "cell_type": "code",
   "execution_count": 14,
   "metadata": {
    "collapsed": true
   },
   "outputs": [],
   "source": [
    "# Function to Calculate the 4 AUC scores\n",
    "def aucfun(clf, X_test, Y_test):    \n",
    "    y_bin = label_binarize(Y_test, classes=[1, 2, 3, 4])\n",
    "    fpr = dict()\n",
    "    tpr = dict()\n",
    "    roc_auc = dict()\n",
    "    Y_predict = clf.predict_proba(X_test)    \n",
    "    #Calculate AUC\n",
    "    for i in range(4):\n",
    "        fpr[i], tpr[i], _ = roc_curve(y_bin[:, i], Y_predict[:, i])\n",
    "        roc_auc[i] = auc(fpr[i], tpr[i])\n",
    "        \n",
    "    return roc_auc\n",
    "\n",
    "# Function to Sum the 4 AUC Scores\n",
    "def aucsum(clf, X_test, Y_test):\n",
    "    auc_scores = aucfun(clf, X_test, Y_test)\n",
    "    auc_sum = 0.\n",
    "    for i in range(4):\n",
    "        auc_sum += auc_scores[i]\n",
    "    return auc_sum"
   ]
  },
  {
   "cell_type": "code",
   "execution_count": 15,
   "metadata": {
    "collapsed": true
   },
   "outputs": [],
   "source": [
    "# Import training data and labels into dataframes\n",
    "X = pd.read_csv('trainingData.txt', sep='\\t', header = None)\n",
    "Y = pd.read_csv('trainingTruth.txt', sep='\\t', header = None)\n",
    "Y = np.array(Y).ravel()\n",
    "\n",
    "#Fill NaNs with the within class mean feature values\n",
    "classes = [X.iloc[np.array(Y == i+1)] for i in range(4)]\n",
    "classes = [i.apply(lambda x: x.fillna(x.mean()),axis=0) for i in classes]\n",
    "X = pd.concat(classes)\n",
    "Y = np.concatenate((np.ones(len(classes[0])), 2*np.ones(len(classes[1])), \n",
    "                         3*np.ones(len(classes[2])), 4*np.ones(len(classes[3]))))\n"
   ]
  },
  {
   "cell_type": "code",
   "execution_count": 16,
   "metadata": {
    "collapsed": true
   },
   "outputs": [],
   "source": [
    "# Split the data for future testing\n",
    "X_train, X_test, Y_train, Y_test = train_test_split(X, Y, test_size=0.1, random_state=69)"
   ]
  },
  {
   "cell_type": "code",
   "execution_count": 17,
   "metadata": {
    "collapsed": true
   },
   "outputs": [],
   "source": [
    "# Standardize the training data\n",
    "scaler = preprocessing.StandardScaler().fit(X_train)\n",
    "X_std = pd.DataFrame(scaler.transform(X_train))\n",
    "# Create a reduced feature dimensionality dataset using a PCA transformation\n",
    "pcaclf = PCA().fit(X_std)\n",
    "X_pca = pcaclf.transform(X_std)\n",
    "# Create a reduced feature dimensionality dataset using the LDA classifier transformation\n",
    "ldaclf = LDA().fit(X_std,Y_train)\n",
    "X_lda = ldaclf.transform(X_std)\n",
    "# Combine the first 12 columns of the PCA dataset with the 3 columns in the LDA dataset\n",
    "X_pca_lda = pd.concat([pd.DataFrame(X_pca[:,0:12]), pd.DataFrame(X_lda)], axis=1)\n",
    "\n",
    "# Transform the testing data using the standardization, LDA transformation, and PCA transformation created on the training data\n",
    "X_test_std = pd.DataFrame(scaler.transform(X_test))\n",
    "X_test_pca = pcaclf.transform(X_test_std)\n",
    "X_test_lda = ldaclf.transform(X_test_std)\n",
    "X_test_pca_lda = pd.concat([pd.DataFrame(X_test_pca[:,0:12]), pd.DataFrame(X_test_lda)], axis=1)"
   ]
  },
  {
   "cell_type": "markdown",
   "metadata": {},
   "source": [
    "**Using the same iterative process of testing every combination of voting ensemble base classifiers on our new mix of PCA and LDA dataset, we found our final optimal classification model, a voting ensemble classifier comprised of Quadratic Discriminant Analysis, Support Vector Machine and Multi-Layer Perceptron classifiers. **"
   ]
  },
  {
   "cell_type": "code",
   "execution_count": 18,
   "metadata": {
    "collapsed": false
   },
   "outputs": [
    {
     "name": "stdout",
     "output_type": "stream",
     "text": [
      "{0: 0.98712878033750484, 1: 0.9355043512398169, 2: 0.97878602890163224, 3: 0.90782095691708165}\n",
      "3.8092401174\n",
      "0.819332566168\n"
     ]
    }
   ],
   "source": [
    "# Classification Script\n",
    "\n",
    "#Create the optimal classifier.  It is a voting classifier that is fed the following 3 sub classifiers:\n",
    "#    -Quadratic Discriminant Analysis Classifier\n",
    "#    -Support Vector Machine\n",
    "#    -Multilayer Perceptron Classifier\n",
    "clfs = [('qda', QDA()), ('svc', SVC(probability=True)), ('mlp', MLPClassifier())]\n",
    "clf = VotingClassifier(estimators = clfs, voting='soft')\n",
    "clf.fit(X_pca_lda, Y_train)\n",
    "Y_predict = clf.predict_proba(X_test_pca_lda)\n",
    "# Binarize the output\n",
    "y_bin = label_binarize(Y_test, classes=[1, 2, 3, 4])\n",
    "\n",
    "#Calculate AUC and scores using the reserved test data\n",
    "print(aucfun(clf, X_test_pca_lda,Y_test))\n",
    "print(aucsum(clf,X_test_pca_lda,Y_test))\n",
    "print(clf.score(X_test_pca_lda, Y_test))"
   ]
  },
  {
   "cell_type": "code",
   "execution_count": null,
   "metadata": {
    "collapsed": true
   },
   "outputs": [],
   "source": []
  },
  {
   "cell_type": "code",
   "execution_count": null,
   "metadata": {
    "collapsed": true
   },
   "outputs": [],
   "source": []
  }
 ],
 "metadata": {
  "anaconda-cloud": {},
  "kernelspec": {
   "display_name": "Python [Root]",
   "language": "python",
   "name": "Python [Root]"
  },
  "language_info": {
   "codemirror_mode": {
    "name": "ipython",
    "version": 3
   },
   "file_extension": ".py",
   "mimetype": "text/x-python",
   "name": "python",
   "nbconvert_exporter": "python",
   "pygments_lexer": "ipython3",
   "version": "3.5.2"
  }
 },
 "nbformat": 4,
 "nbformat_minor": 0
}
